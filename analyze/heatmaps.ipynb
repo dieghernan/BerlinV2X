{
 "cells": [
  {
   "cell_type": "code",
   "execution_count": 1,
   "id": "299851fd",
   "metadata": {},
   "outputs": [],
   "source": [
    "from math import radians, cos, sin, asin, sqrt, ceil, floor\n",
    "import matplotlib.pyplot as plt\n",
    "import numpy as np\n",
    "import pandas as pd\n",
    "import smopy\n",
    "from tqdm.notebook import tqdm"
   ]
  },
  {
   "cell_type": "code",
   "execution_count": 2,
   "id": "ae113619",
   "metadata": {},
   "outputs": [],
   "source": [
    "data_path = r'U:\\My Documents\\Projekte\\AI4Mobile\\Data\\Berlin'\n",
    "\n",
    "df = pd.read_parquet(data_path+r'\\cellular_dataframe.parquet')\n",
    "df = df.dropna(subset=['Latitude', 'Longitude', 'Pos in Ref Round'])\n",
    "df['datarate'] = df['datarate']/1e6 # transform datarate in from bit/s to Mbit/s\n",
    "\n",
    "# add PCell_SNR_max col\n",
    "def max_combine(row, key):\n",
    "    return max(row[key+'_1'], row[key+'_2'])\n",
    "\n",
    "df['PCell_SNR_max'] = df.apply(max_combine, axis=1, args=('PCell_SNR',))"
   ]
  },
  {
   "cell_type": "code",
   "execution_count": 3,
   "id": "cd12e53d",
   "metadata": {},
   "outputs": [],
   "source": [
    "# configuration of plots\n",
    "\n",
    "box_size = 50 # in meters\n",
    "\n",
    "plt.rcParams['figure.figsize'] = (8, 6)\n",
    "\n",
    "dpi = 500\n",
    "font_size = 16\n",
    "s = 8 # size of squares in plot"
   ]
  },
  {
   "cell_type": "code",
   "execution_count": 4,
   "id": "77366606",
   "metadata": {},
   "outputs": [
    {
     "name": "stdout",
     "output_type": "stream",
     "text": [
      "downlink 400 kbit/s : 31345 values\n",
      "downlink 350000 kbit/s : 57905 values\n",
      "uplink 400 kbit/s : 41868 values\n",
      "uplink 75000 kbit/s : 59665 values\n"
     ]
    }
   ],
   "source": [
    "for (direction, target_datarate), group_df in df.groupby(['direction', 'target_datarate']):\n",
    "    print('%s %d kbit/s : %d values' % (direction, target_datarate/1e3, len(group_df)))"
   ]
  },
  {
   "cell_type": "code",
   "execution_count": 5,
   "id": "94a08dc0",
   "metadata": {},
   "outputs": [
    {
     "data": {
      "text/plain": [
       "['PCell_RSRP_1',\n",
       " 'PCell_RSRQ_1',\n",
       " 'PCell_RSSI_1',\n",
       " 'PCell_SNR_1',\n",
       " 'PCell_RSRP_2',\n",
       " 'PCell_RSRQ_2',\n",
       " 'PCell_RSSI_2',\n",
       " 'PCell_SNR_2',\n",
       " 'PCell_RSRP_max',\n",
       " 'PCell_RSRQ_max',\n",
       " 'PCell_RSSI_max',\n",
       " 'PCell_SNR_max',\n",
       " 'datarate',\n",
       " 'ping_ms',\n",
       " 'num_values']"
      ]
     },
     "execution_count": 5,
     "metadata": {},
     "output_type": "execute_result"
    }
   ],
   "source": [
    "# generate list of columns to plot\n",
    "\n",
    "phy = ['RSRP', 'RSRQ', 'RSSI', 'SNR']\n",
    "\n",
    "col_list = [f'PCell_{p}_1' for p in phy] + [f'PCell_{p}_2' for p in phy] + [f'PCell_{p}_max' for p in phy]\n",
    "col_list = col_list + ['datarate', 'ping_ms', 'num_values']\n",
    "\n",
    "col_labels = {'PCell_RSRP_1': 'RSRP_1 [dBm]',\n",
    "              'PCell_RSRQ_1': 'RSRQ_1 [dB]',\n",
    "              'PCell_RSSI_1': 'RSSI_1 [dBm]',\n",
    "              'PCell_SNR_1': 'SNR [dB]',\n",
    "              'PCell_RSRP_2': 'RSRP_2 [dBm]',\n",
    "              'PCell_RSRQ_2': 'RSRQ_2 [dB]',\n",
    "              'PCell_RSSI_2': 'RSSI_2 [dBm]',\n",
    "              'PCell_SNR_2': 'SNR [dB]',\n",
    "              'PCell_RSRP_max': 'RSRP_max [dBm]',\n",
    "              'PCell_RSRQ_max': 'RSRQ_max [dB]',\n",
    "              'PCell_RSSI_max': 'RSSI_max [dBm]',\n",
    "              'PCell_SNR_max': 'SNR [dB]',\n",
    "              'datarate': 'Datarate [Mbit/s]',\n",
    "              'ping_ms': 'Ping [ms]',\n",
    "              'num_values': 'Number of values per tile'}\n",
    "\n",
    "col_list"
   ]
  },
  {
   "cell_type": "code",
   "execution_count": 6,
   "id": "4ccfd986",
   "metadata": {},
   "outputs": [],
   "source": [
    "def haversine(lon1, lat1, lon2, lat2):\n",
    "    \"\"\"\n",
    "    Calculate the great circle distance in kilometers between two points \n",
    "    on the earth (specified in decimal degrees)\n",
    "    \"\"\"\n",
    "    # convert decimal degrees to radians \n",
    "    lon1, lat1, lon2, lat2 = map(radians, [lon1, lat1, lon2, lat2])\n",
    "\n",
    "    # haversine formula \n",
    "    dlon = lon2 - lon1 \n",
    "    dlat = lat2 - lat1 \n",
    "    a = sin(dlat/2)**2 + cos(lat1) * cos(lat2) * sin(dlon/2)**2\n",
    "    c = 2 * asin(sqrt(a)) \n",
    "    r = 6371 # Radius of earth in kilometers. Use 3956 for miles. Determines return value units.\n",
    "    return c * r"
   ]
  },
  {
   "cell_type": "code",
   "execution_count": 7,
   "id": "273f519c",
   "metadata": {},
   "outputs": [],
   "source": [
    "lon_min = df['Longitude'].min() # x\n",
    "lon_max = df['Longitude'].max()\n",
    "lat_min = df['Latitude'].min() # y\n",
    "lat_max = df['Latitude'].max()\n",
    "\n",
    "lon_extent = lon_max - lon_min\n",
    "lat_extent = lat_max - lat_min\n",
    "\n",
    "# number of boxes in each direction\n",
    "lon_num = ceil(haversine(lon_min, (lat_min+lat_max)/2, lon_max, (lat_min+lat_max)/2) * 1000 / box_size)\n",
    "lat_num = ceil(haversine((lon_min+lon_max)/2, lat_min, (lon_min+lon_max)/2, lat_max) * 1000 / box_size)\n",
    "\n",
    "# assign each sample 2D indexes for the box it lies\n",
    "df['lon_idx'] = np.floor((df['Longitude'] - lon_min) / lon_extent * lon_num).astype(int)\n",
    "df['lat_idx'] = np.floor((df['Latitude'] - lat_min) / lat_extent * lat_num).astype(int)\n",
    "\n",
    "df['box_lon'] = ((df['lon_idx']+0.5) / lon_num) * lon_extent + lon_min\n",
    "df['box_lat'] = ((df['lat_idx']+0.5) / lat_num) * lat_extent + lat_min"
   ]
  },
  {
   "cell_type": "code",
   "execution_count": 8,
   "id": "e59ce8a7",
   "metadata": {},
   "outputs": [],
   "source": [
    "def create_heatmap(col, direction, op, fmt, show_plots, min_values_per_box):\n",
    "    \n",
    "    direction_df = df.loc[df['direction'] == direction]\n",
    "    direction_df = direction_df.loc[direction_df['operator'] == op]\n",
    "    if col == 'datarate':\n",
    "        direction_df = direction_df.loc[direction_df['target_datarate'] != 0.4]\n",
    "    elif col == 'ping_ms':\n",
    "        direction_df = direction_df.loc[direction_df['target_datarate'] == 0.4]\n",
    "    \n",
    "    # collect all values\n",
    "    box_longitudes = []\n",
    "    box_latitudes  = []\n",
    "    box_values = []\n",
    "    for (lon_idx, lat_idx), group_df in direction_df.groupby(['lon_idx', 'lat_idx']):\n",
    "        \n",
    "        # make sure that there are sufficient samples in each box\n",
    "        if len(group_df) < min_values_per_box:\n",
    "            continue\n",
    "        \n",
    "        box_longitudes.append(lon_min + (lon_idx+0.5) * (lon_extent/lon_num))\n",
    "        box_latitudes.append(lat_min + (lat_idx+0.5) * (lat_extent/lat_num))\n",
    "        if col == 'num_values':\n",
    "            box_values.append(len(group_df))\n",
    "        else:\n",
    "            box_values.append(group_df[col].mean())\n",
    "\n",
    "    # generate background\n",
    "    mp = smopy.Map((lat_min, lon_min, lat_max, lon_max), z=14, margin=0.0)\n",
    "    ax = mp.show_mpl(dpi=dpi)\n",
    "\n",
    "    # draw on the map\n",
    "    x, y = mp.to_pixels(np.array(box_latitudes), np.array(box_longitudes))\n",
    "    if direction == 'downlink' and col == 'datarate':\n",
    "        vmax = 100\n",
    "        print('vmax=%d' % vmax)\n",
    "    elif col == 'ping_ms':\n",
    "        vmax = 100\n",
    "        print('vmax=%d ms' % vmax)\n",
    "    else:\n",
    "        vmax = None\n",
    "    \n",
    "    im = ax.scatter(x, y, marker='s', c=box_values, vmax=vmax, s=s, alpha=0.9, cmap='plasma') # aggregated REM\n",
    "    cb = plt.colorbar(im, pad=0.02, orientation='horizontal')\n",
    "    cb.set_label(col_labels[col], rotation=0, labelpad=17, fontsize=font_size)\n",
    "    cb.ax.tick_params(labelsize=font_size)\n",
    "\n",
    "    plt.tight_layout()\n",
    "    plt.savefig('figures\\heatmap_operator%d_%s_%s.%s' % (op, col, direction, fmt))\n",
    "    if not show_plots:\n",
    "        plt.close()"
   ]
  },
  {
   "cell_type": "code",
   "execution_count": 9,
   "id": "1f16923f",
   "metadata": {},
   "outputs": [
    {
     "data": {
      "application/vnd.jupyter.widget-view+json": {
       "model_id": "0093b7823e614850b4210e01ef84daab",
       "version_major": 2,
       "version_minor": 0
      },
      "text/plain": [
       "  0%|          | 0/15 [00:00<?, ?it/s]"
      ]
     },
     "metadata": {},
     "output_type": "display_data"
    },
    {
     "name": "stdout",
     "output_type": "stream",
     "text": [
      "PCell_SNR_max\n"
     ]
    }
   ],
   "source": [
    "fmt = 'pdf' # format for saving\n",
    "show_plots = False\n",
    "min_values_per_box = 10\n",
    "\n",
    "for c in tqdm(col_list):\n",
    "    for operater in [1, 2]:\n",
    "        create_heatmap(c, 'downlink', operater, fmt, show_plots, min_values_per_box)\n",
    "        create_heatmap(c, 'uplink', operater, fmt, show_plots, min_values_per_box)"
   ]
  },
  {
   "cell_type": "code",
   "execution_count": null,
   "id": "564a16b2",
   "metadata": {},
   "outputs": [],
   "source": []
  }
 ],
 "metadata": {
  "kernelspec": {
   "display_name": "Python 3 (ipykernel)",
   "language": "python",
   "name": "python3"
  },
  "language_info": {
   "codemirror_mode": {
    "name": "ipython",
    "version": 3
   },
   "file_extension": ".py",
   "mimetype": "text/x-python",
   "name": "python",
   "nbconvert_exporter": "python",
   "pygments_lexer": "ipython3",
   "version": "3.9.12"
  }
 },
 "nbformat": 4,
 "nbformat_minor": 5
}
