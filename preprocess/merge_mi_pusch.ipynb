{
 "cells": [
  {
   "cell_type": "code",
   "execution_count": 1,
   "id": "f622a392-82e3-4ccc-8088-576a51dbe878",
   "metadata": {},
   "outputs": [],
   "source": [
    "import numpy as np\n",
    "import pandas as pd\n",
    "from pathlib import Path\n",
    "import json"
   ]
  },
  {
   "cell_type": "code",
   "execution_count": 2,
   "id": "4246eb90-ed9d-418e-8ae6-e60da7c9f942",
   "metadata": {
    "tags": []
   },
   "outputs": [],
   "source": [
    "data_path = Path.cwd().parent/\"data\"\n",
    "mi_path = data_path/'sources/mobile_insight'\n",
    "out_path = data_path/\"mi_intermediate\"\n",
    "\n",
    "sample_period = \"1s\""
   ]
  },
  {
   "cell_type": "markdown",
   "id": "025d11ef-70a4-4de8-9de7-8b09c923af31",
   "metadata": {
    "jupyter": {
     "outputs_hidden": true
    },
    "tags": []
   },
   "source": [
    "## Colect and preprocess data sources"
   ]
  },
  {
   "cell_type": "markdown",
   "id": "8119da9c-9443-4938-aeed-142916fbe59b",
   "metadata": {
    "tags": []
   },
   "source": [
    "We preload the portmap from the measurement plan to assign the device to the server"
   ]
  },
  {
   "cell_type": "code",
   "execution_count": 3,
   "id": "505eddbe-b0d7-465d-a1ca-20398c23c6a6",
   "metadata": {
    "tags": []
   },
   "outputs": [],
   "source": [
    "pusch_cols = ['Serving Cell ID', 'Num of RB', 'PUSCH TB Size', 'PUSCH Tx Power (dBm)']\n",
    "\n",
    "pusch_agg = {'Serving Cell ID': 'median', # approx to mode\n",
    "             'Num of RB': 'sum',\n",
    "             'PUSCH TB Size': 'sum',\n",
    "             'PUSCH Tx Power (dBm)': 'mean'}"
   ]
  },
  {
   "cell_type": "code",
   "execution_count": 4,
   "id": "ec7d20ba-861f-4942-823c-f36b16033c0d",
   "metadata": {
    "tags": []
   },
   "outputs": [
    {
     "name": "stdout",
     "output_type": "stream",
     "text": [
      "pc1\\LTE_PHY_PUSCH_Tx_Report.parquet\n",
      "pc2\\LTE_PHY_PUSCH_Tx_Report.parquet\n",
      "pc3\\LTE_PHY_PUSCH_Tx_Report.parquet\n",
      "pc4\\LTE_PHY_PUSCH_Tx_Report.parquet\n"
     ]
    }
   ],
   "source": [
    "pusch_list = []\n",
    "for p in mi_path.rglob(\"*LTE_PHY_PUSCH_Tx_Report*.parquet\"):\n",
    "    print(p.relative_to(mi_path))\n",
    "\n",
    "    pc = p.parent.stem\n",
    "         \n",
    "    df = pd.read_parquet(p, columns=pusch_cols)\n",
    "\n",
    "    df = df.resample(sample_period).aggregate(pusch_agg).dropna()\n",
    "    df['device'] = pc\n",
    "    pusch_list.append(df)"
   ]
  },
  {
   "cell_type": "code",
   "execution_count": 5,
   "id": "edc161ea-f951-4b9e-880a-18a610823144",
   "metadata": {
    "tags": []
   },
   "outputs": [],
   "source": [
    "pusch_df = pd.concat(pusch_list)\n",
    "pusch_df = pusch_df.astype({\"Serving Cell ID\": int}).rename(columns={\"Num of RB\": \"Num RBs\"})"
   ]
  },
  {
   "cell_type": "code",
   "execution_count": 6,
   "id": "dfda942e-6547-4c58-8a1c-cc8bf58ce234",
   "metadata": {
    "tags": []
   },
   "outputs": [
    {
     "data": {
      "text/html": [
       "<div>\n",
       "<style scoped>\n",
       "    .dataframe tbody tr th:only-of-type {\n",
       "        vertical-align: middle;\n",
       "    }\n",
       "\n",
       "    .dataframe tbody tr th {\n",
       "        vertical-align: top;\n",
       "    }\n",
       "\n",
       "    .dataframe thead th {\n",
       "        text-align: right;\n",
       "    }\n",
       "</style>\n",
       "<table border=\"1\" class=\"dataframe\">\n",
       "  <thead>\n",
       "    <tr style=\"text-align: right;\">\n",
       "      <th></th>\n",
       "      <th>Serving Cell ID</th>\n",
       "      <th>Num RBs</th>\n",
       "      <th>PUSCH TB Size</th>\n",
       "      <th>PUSCH Tx Power (dBm)</th>\n",
       "      <th>device</th>\n",
       "    </tr>\n",
       "    <tr>\n",
       "      <th>timestamp</th>\n",
       "      <th></th>\n",
       "      <th></th>\n",
       "      <th></th>\n",
       "      <th></th>\n",
       "      <th></th>\n",
       "    </tr>\n",
       "  </thead>\n",
       "  <tbody>\n",
       "    <tr>\n",
       "      <th>2021-06-21 10:33:09+02:00</th>\n",
       "      <td>115</td>\n",
       "      <td>31</td>\n",
       "      <td>54</td>\n",
       "      <td>44.800000</td>\n",
       "      <td>pc1</td>\n",
       "    </tr>\n",
       "    <tr>\n",
       "      <th>2021-06-21 10:33:10+02:00</th>\n",
       "      <td>115</td>\n",
       "      <td>101</td>\n",
       "      <td>189</td>\n",
       "      <td>44.937500</td>\n",
       "      <td>pc1</td>\n",
       "    </tr>\n",
       "    <tr>\n",
       "      <th>2021-06-21 10:33:11+02:00</th>\n",
       "      <td>115</td>\n",
       "      <td>60</td>\n",
       "      <td>0</td>\n",
       "      <td>46.200000</td>\n",
       "      <td>pc1</td>\n",
       "    </tr>\n",
       "    <tr>\n",
       "      <th>2021-06-21 10:33:12+02:00</th>\n",
       "      <td>115</td>\n",
       "      <td>98</td>\n",
       "      <td>211</td>\n",
       "      <td>45.531250</td>\n",
       "      <td>pc1</td>\n",
       "    </tr>\n",
       "    <tr>\n",
       "      <th>2021-06-21 10:33:13+02:00</th>\n",
       "      <td>115</td>\n",
       "      <td>92</td>\n",
       "      <td>396</td>\n",
       "      <td>44.900000</td>\n",
       "      <td>pc1</td>\n",
       "    </tr>\n",
       "    <tr>\n",
       "      <th>...</th>\n",
       "      <td>...</td>\n",
       "      <td>...</td>\n",
       "      <td>...</td>\n",
       "      <td>...</td>\n",
       "      <td>...</td>\n",
       "    </tr>\n",
       "    <tr>\n",
       "      <th>2021-06-24 10:20:32+02:00</th>\n",
       "      <td>42</td>\n",
       "      <td>85524</td>\n",
       "      <td>5597563</td>\n",
       "      <td>7.304609</td>\n",
       "      <td>pc4</td>\n",
       "    </tr>\n",
       "    <tr>\n",
       "      <th>2021-06-24 10:20:33+02:00</th>\n",
       "      <td>42</td>\n",
       "      <td>86902</td>\n",
       "      <td>5692276</td>\n",
       "      <td>6.666667</td>\n",
       "      <td>pc4</td>\n",
       "    </tr>\n",
       "    <tr>\n",
       "      <th>2021-06-24 10:20:34+02:00</th>\n",
       "      <td>42</td>\n",
       "      <td>86082</td>\n",
       "      <td>5635683</td>\n",
       "      <td>5.143430</td>\n",
       "      <td>pc4</td>\n",
       "    </tr>\n",
       "    <tr>\n",
       "      <th>2021-06-24 10:20:35+02:00</th>\n",
       "      <td>42</td>\n",
       "      <td>86250</td>\n",
       "      <td>5606782</td>\n",
       "      <td>8.297297</td>\n",
       "      <td>pc4</td>\n",
       "    </tr>\n",
       "    <tr>\n",
       "      <th>2021-06-24 10:20:36+02:00</th>\n",
       "      <td>42</td>\n",
       "      <td>3446</td>\n",
       "      <td>225610</td>\n",
       "      <td>5.650000</td>\n",
       "      <td>pc4</td>\n",
       "    </tr>\n",
       "  </tbody>\n",
       "</table>\n",
       "<p>264139 rows × 5 columns</p>\n",
       "</div>"
      ],
      "text/plain": [
       "                           Serving Cell ID  Num RBs  PUSCH TB Size  \\\n",
       "timestamp                                                            \n",
       "2021-06-21 10:33:09+02:00              115       31             54   \n",
       "2021-06-21 10:33:10+02:00              115      101            189   \n",
       "2021-06-21 10:33:11+02:00              115       60              0   \n",
       "2021-06-21 10:33:12+02:00              115       98            211   \n",
       "2021-06-21 10:33:13+02:00              115       92            396   \n",
       "...                                    ...      ...            ...   \n",
       "2021-06-24 10:20:32+02:00               42    85524        5597563   \n",
       "2021-06-24 10:20:33+02:00               42    86902        5692276   \n",
       "2021-06-24 10:20:34+02:00               42    86082        5635683   \n",
       "2021-06-24 10:20:35+02:00               42    86250        5606782   \n",
       "2021-06-24 10:20:36+02:00               42     3446         225610   \n",
       "\n",
       "                           PUSCH Tx Power (dBm) device  \n",
       "timestamp                                               \n",
       "2021-06-21 10:33:09+02:00             44.800000    pc1  \n",
       "2021-06-21 10:33:10+02:00             44.937500    pc1  \n",
       "2021-06-21 10:33:11+02:00             46.200000    pc1  \n",
       "2021-06-21 10:33:12+02:00             45.531250    pc1  \n",
       "2021-06-21 10:33:13+02:00             44.900000    pc1  \n",
       "...                                         ...    ...  \n",
       "2021-06-24 10:20:32+02:00              7.304609    pc4  \n",
       "2021-06-24 10:20:33+02:00              6.666667    pc4  \n",
       "2021-06-24 10:20:34+02:00              5.143430    pc4  \n",
       "2021-06-24 10:20:35+02:00              8.297297    pc4  \n",
       "2021-06-24 10:20:36+02:00              5.650000    pc4  \n",
       "\n",
       "[264139 rows x 5 columns]"
      ]
     },
     "execution_count": 6,
     "metadata": {},
     "output_type": "execute_result"
    }
   ],
   "source": [
    "pusch_df.to_parquet(out_path/\"pusch.parquet\", compression=\"gzip\")\n",
    "pusch_df"
   ]
  }
 ],
 "metadata": {
  "kernelspec": {
   "display_name": "Python 3 (ipykernel)",
   "language": "python",
   "name": "python3"
  },
  "language_info": {
   "codemirror_mode": {
    "name": "ipython",
    "version": 3
   },
   "file_extension": ".py",
   "mimetype": "text/x-python",
   "name": "python",
   "nbconvert_exporter": "python",
   "pygments_lexer": "ipython3",
   "version": "3.10.8"
  }
 },
 "nbformat": 4,
 "nbformat_minor": 5
}